{
  "nbformat": 4,
  "nbformat_minor": 0,
  "metadata": {
    "colab": {
      "private_outputs": true,
      "provenance": [],
      "authorship_tag": "ABX9TyPYTlfxkyMgR6m86z4gO1wI",
      "include_colab_link": true
    },
    "kernelspec": {
      "name": "python3",
      "display_name": "Python 3"
    },
    "language_info": {
      "name": "python"
    }
  },
  "cells": [
    {
      "cell_type": "markdown",
      "metadata": {
        "id": "view-in-github",
        "colab_type": "text"
      },
      "source": [
        "<a href=\"https://colab.research.google.com/github/QuratulainTashfeen/PIAIC-batch-61/blob/main/hello_world.ipynb\" target=\"_parent\"><img src=\"https://colab.research.google.com/assets/colab-badge.svg\" alt=\"Open In Colab\"/></a>"
      ]
    },
    {
      "cell_type": "code",
      "execution_count": null,
      "metadata": {
        "id": "UItGwXPdA3fg"
      },
      "outputs": [],
      "source": [
        "!pip install -Uq langchain langchain-google-genai\n",
        "\n",
        "from langchain_google_genai import ChatGoogleGenerativeAI\n",
        "from google.colab import userdata\n",
        "\n",
        "# Retrieving API Key securely\n",
        "GOOGLE_API_KEY = userdata.get('GOOGLE_API_KEY')\n",
        "\n",
        "# Initializing the Gemini 2.0 model\n",
        "llm: ChatGoogleGenerativeAI = ChatGoogleGenerativeAI(\n",
        "    model=\"gemini-2.0-flash-exp\",\n",
        "    api_key=GOOGLE_API_KEY,\n",
        ")\n",
        "\n",
        "# Simple Hello World Prompt\n",
        "response = llm.invoke(\"Hello, world!\")\n",
        "print(response)"
      ]
    },
    {
      "cell_type": "code",
      "source": [],
      "metadata": {
        "id": "-mrflFOQCmWn"
      },
      "execution_count": null,
      "outputs": []
    },
    {
      "cell_type": "code",
      "source": [
        "llm : ChatGoogleGenerativeAI = ChatGoogleGenerativeAI(\n",
        "    model= \"gemini-2.0-flash-exp\",\n",
        "    api_key= GOOGLE_API_KEY,\n",
        ")\n",
        "\n",
        "response = llm.invoke(\"Who is the founder of Pakistan\")\n",
        "print(response)"
      ],
      "metadata": {
        "id": "oTZNFUkuC_DN"
      },
      "execution_count": null,
      "outputs": []
    }
  ]
}